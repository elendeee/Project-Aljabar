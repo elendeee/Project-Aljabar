{
 "cells": [
  {
   "cell_type": "markdown",
   "metadata": {},
   "source": [
    "Menghitung matriks normalisasi dan nilai eigen dari tabel data parameter"
   ]
  },
  {
   "cell_type": "code",
   "execution_count": 3,
   "metadata": {},
   "outputs": [
    {
     "name": "stdout",
     "output_type": "stream",
     "text": [
      "Matriks Data:\n",
      " [[1.   4.   2.   3.   4.   4.  ]\n",
      " [0.25 1.   2.   3.   3.   3.  ]\n",
      " [0.5  0.5  1.   4.   3.   4.  ]\n",
      " [0.33 0.33 0.25 1.   3.   4.  ]\n",
      " [0.25 0.33 0.33 0.33 1.   2.  ]\n",
      " [0.25 0.33 0.25 0.25 0.5  1.  ]]\n",
      "\n",
      "Matriks Normalisasi:\n",
      "[[0.388 0.616 0.343 0.259 0.276 0.222]\n",
      " [0.097 0.154 0.343 0.259 0.207 0.167]\n",
      " [0.194 0.077 0.172 0.345 0.207 0.222]\n",
      " [0.128 0.051 0.043 0.086 0.207 0.222]\n",
      " [0.097 0.051 0.057 0.028 0.069 0.111]\n",
      " [0.097 0.051 0.043 0.022 0.034 0.056]]\n",
      "\n",
      "Vektor Eigen: \n",
      "[[0.351]\n",
      " [0.204]\n",
      " [0.203]\n",
      " [0.123]\n",
      " [0.069]\n",
      " [0.05 ]]\n"
     ]
    }
   ],
   "source": [
    "import numpy as np\n",
    "\n",
    "#tabel rating\n",
    "data1 = np.mat(\"1 4 2 3 4 4; \\\n",
    "               0.25 1 2 3 3 3; \\\n",
    "               0.5 0.5 1 4 3 4; \\\n",
    "               0.33 0.33 0.25 1 3 4; \\\n",
    "               0.25 0.33 0.33 0.33 1 2; \\\n",
    "               0.25 0.33 0.25 0.25 0.5 1\")\n",
    "\n",
    "print(\"Matriks Data:\\n\", data1)\n",
    "\n",
    "max_values = np.sum(data1, axis=0)\n",
    "\n",
    "normalized_matrix1 = data1 / max_values\n",
    "\n",
    "print(\"\\nMatriks Normalisasi:\")\n",
    "print(np.round(normalized_matrix1, 3))\n",
    "\n",
    "num_parameters = 6\n",
    "eigen_values1 = np.sum(normalized_matrix1, axis=1)/num_parameters\n",
    "print(\"\\nVektor Eigen: \")\n",
    "print(np.round(eigen_values1, 3))\n"
   ]
  },
  {
   "cell_type": "code",
   "execution_count": 25,
   "metadata": {},
   "outputs": [
    {
     "name": "stdout",
     "output_type": "stream",
     "text": [
      "Matriks Data:\n",
      " [[1.   3.   4.   2.   3.   1.  ]\n",
      " [0.33 1.   2.   1.   2.   1.  ]\n",
      " [0.25 0.5  1.   3.   4.   2.  ]\n",
      " [0.5  1.   0.33 1.   1.   1.  ]\n",
      " [0.33 0.5  0.25 1.   1.   2.  ]\n",
      " [1.   1.   0.5  1.   0.5  1.  ]]\n",
      "\n",
      "Matriks Normalisasi:\n",
      "[[0.293 0.429 0.495 0.222 0.261 0.125]\n",
      " [0.097 0.143 0.248 0.111 0.174 0.125]\n",
      " [0.073 0.071 0.124 0.333 0.348 0.25 ]\n",
      " [0.147 0.143 0.041 0.111 0.087 0.125]\n",
      " [0.097 0.071 0.031 0.111 0.087 0.25 ]\n",
      " [0.293 0.143 0.062 0.111 0.043 0.125]]\n",
      "\n",
      "Vektor Eigen: \n",
      "[[0.304]\n",
      " [0.15 ]\n",
      " [0.2  ]\n",
      " [0.109]\n",
      " [0.108]\n",
      " [0.13 ]]\n"
     ]
    }
   ],
   "source": [
    "#tidak dii input\n",
    "import numpy as np\n",
    "\n",
    "#tabel rating\n",
    "data = np.mat(\"1 3 4 2 3 1; \\\n",
    "               0.33 1 2 1 2 1; \\\n",
    "               0.25 0.5 1 3 4 2; \\\n",
    "               0.5 1 0.33 1 1 1; \\\n",
    "               0.33 0.5 0.25 1 1 2; \\\n",
    "               1 1 0.5 1 0.5 1\")\n",
    "\n",
    "print(\"Matriks Data:\\n\", data)\n",
    "\n",
    "max_values = np.sum(data, axis=0)\n",
    "\n",
    "normalized_matrix2 = data / max_values\n",
    "\n",
    "print(\"\\nMatriks Normalisasi:\")\n",
    "print(np.round(normalized_matrix2, 3))\n",
    "\n",
    "num_parameters = 6\n",
    "eigen_values2 = np.sum(normalized_matrix2, axis=1)/num_parameters\n",
    "print(\"\\nVektor Eigen: \")\n",
    "print(np.round(eigen_values2, 3))\n"
   ]
  },
  {
   "cell_type": "markdown",
   "metadata": {},
   "source": [
    "Perbandian Kriteria E-Commerce"
   ]
  },
  {
   "cell_type": "markdown",
   "metadata": {},
   "source": [
    "1. Harga\n"
   ]
  },
  {
   "cell_type": "code",
   "execution_count": 27,
   "metadata": {},
   "outputs": [
    {
     "name": "stdout",
     "output_type": "stream",
     "text": [
      "Matriks Data:\n",
      " [[1.  2.  1.  2.  2.  1. ]\n",
      " [0.5 1.  1.  2.  1.  1. ]\n",
      " [1.  1.  1.  2.  1.  2. ]\n",
      " [0.5 0.5 0.5 1.  2.  1. ]\n",
      " [0.5 1.  1.  0.5 1.  1. ]\n",
      " [1.  1.  0.5 1.  1.  1. ]]\n",
      "\n",
      "Matriks Normalisasi:\n",
      "[[0.222 0.308 0.2   0.235 0.25  0.143]\n",
      " [0.111 0.154 0.2   0.235 0.125 0.143]\n",
      " [0.222 0.154 0.2   0.235 0.125 0.286]\n",
      " [0.111 0.077 0.1   0.118 0.25  0.143]\n",
      " [0.111 0.154 0.2   0.059 0.125 0.143]\n",
      " [0.222 0.154 0.1   0.118 0.125 0.143]]\n",
      "\n",
      "Vektor Eigen Eigen: \n",
      "[[0.226]\n",
      " [0.161]\n",
      " [0.204]\n",
      " [0.133]\n",
      " [0.132]\n",
      " [0.144]]\n"
     ]
    }
   ],
   "source": [
    "import numpy as np\n",
    "\n",
    "#tabel rating\n",
    "data = np.mat(\"1 2 1 2 2 1; \\\n",
    "               0.5 1 1 2 1 1; \\\n",
    "               1 1 1 2 1 2; \\\n",
    "               0.5 0.5 0.5 1 2 1; \\\n",
    "               0.5 1 1 0.5 1 1; \\\n",
    "               1 1 0.5 1 1 1\")\n",
    "\n",
    "print(\"Matriks Data:\\n\", data)\n",
    "\n",
    "max_values = np.sum(data, axis=0)\n",
    "\n",
    "normalized_matrix3 = data / max_values\n",
    "\n",
    "print(\"\\nMatriks Normalisasi:\")\n",
    "print(np.round(normalized_matrix3, 3))\n",
    "\n",
    "num_parameters = 6\n",
    "eigen_values3 = np.sum(normalized_matrix3, axis=1)/num_parameters\n",
    "print(\"\\nVektor Eigen Eigen: \")\n",
    "print(np.round(eigen_values3, 3))\n"
   ]
  },
  {
   "cell_type": "markdown",
   "metadata": {},
   "source": [
    "2. Gratis  ongkir"
   ]
  },
  {
   "cell_type": "code",
   "execution_count": 28,
   "metadata": {},
   "outputs": [
    {
     "name": "stdout",
     "output_type": "stream",
     "text": [
      "Matriks Data:\n",
      " [[1.  2.  1.  2.  1.  2. ]\n",
      " [0.5 1.  2.  1.  2.  2. ]\n",
      " [1.  0.5 1.  2.  1.  2. ]\n",
      " [0.5 1.  0.5 1.  1.  2. ]\n",
      " [1.  0.5 1.  1.  1.  2. ]\n",
      " [0.5 0.5 0.5 0.5 0.5 1. ]]\n",
      "\n",
      "Matriks Normalisasi:\n",
      "[[0.222 0.364 0.167 0.267 0.154 0.182]\n",
      " [0.111 0.182 0.333 0.133 0.308 0.182]\n",
      " [0.222 0.091 0.167 0.267 0.154 0.182]\n",
      " [0.111 0.182 0.083 0.133 0.154 0.182]\n",
      " [0.222 0.091 0.167 0.133 0.154 0.182]\n",
      " [0.111 0.091 0.083 0.067 0.077 0.091]]\n",
      "\n",
      "Vektor Eigen: \n",
      "[[0.226]\n",
      " [0.208]\n",
      " [0.18 ]\n",
      " [0.141]\n",
      " [0.158]\n",
      " [0.087]]\n"
     ]
    }
   ],
   "source": [
    "import numpy as np\n",
    "\n",
    "#tabel rating\n",
    "data = np.mat(\"1 2 1 2 1 2; \\\n",
    "               0.5 1 2 1 2 2; \\\n",
    "               1 0.5 1 2 1 2; \\\n",
    "               0.5 1 0.5 1 1 2; \\\n",
    "               1 0.5 1 1 1 2; \\\n",
    "               0.5 0.5 0.5 0.5 0.5 1\")\n",
    "\n",
    "print(\"Matriks Data:\\n\", data)\n",
    "\n",
    "max_values = np.sum(data, axis=0)\n",
    "\n",
    "normalized_matrix4 = data / max_values\n",
    "\n",
    "print(\"\\nMatriks Normalisasi:\")\n",
    "print(np.round(normalized_matrix4, 3))\n",
    "\n",
    "num_parameters = 6\n",
    "eigen_values4 = np.sum(normalized_matrix4, axis=1)/num_parameters\n",
    "print(\"\\nVektor Eigen: \")\n",
    "print(np.round(eigen_values4, 3))\n"
   ]
  },
  {
   "cell_type": "markdown",
   "metadata": {},
   "source": [
    "3. Review & Rating"
   ]
  },
  {
   "cell_type": "code",
   "execution_count": 29,
   "metadata": {},
   "outputs": [
    {
     "name": "stdout",
     "output_type": "stream",
     "text": [
      "Matriks Data:\n",
      " [[1.  1.  1.  2.  2.  1. ]\n",
      " [1.  1.  2.  1.  2.  1. ]\n",
      " [1.  0.5 1.  2.  1.  2. ]\n",
      " [0.5 1.  0.5 1.  1.  1. ]\n",
      " [0.5 0.5 1.  1.  1.  2. ]\n",
      " [1.  1.  0.5 1.  0.5 1. ]]\n",
      "\n",
      "Matriks Normalisasi:\n",
      "[[0.2   0.2   0.167 0.25  0.267 0.125]\n",
      " [0.2   0.2   0.333 0.125 0.267 0.125]\n",
      " [0.2   0.1   0.167 0.25  0.133 0.25 ]\n",
      " [0.1   0.2   0.083 0.125 0.133 0.125]\n",
      " [0.1   0.1   0.167 0.125 0.133 0.25 ]\n",
      " [0.2   0.2   0.083 0.125 0.067 0.125]]\n",
      "\n",
      "Vektor Eigen: \n",
      "[[0.201]\n",
      " [0.208]\n",
      " [0.183]\n",
      " [0.128]\n",
      " [0.146]\n",
      " [0.133]]\n"
     ]
    }
   ],
   "source": [
    "\n",
    "import numpy as np\n",
    "\n",
    "#tabel rating\n",
    "data = np.mat(\"1 1 1 2 2 1; \\\n",
    "               1 1 2 1 2 1; \\\n",
    "               1 0.5 1 2 1 2; \\\n",
    "               0.5 1 0.5 1 1 1; \\\n",
    "               0.5 0.5 1 1 1 2; \\\n",
    "               1 1 0.5 1 0.5 1\")\n",
    "\n",
    "print(\"Matriks Data:\\n\", data)\n",
    "\n",
    "max_values = np.sum(data, axis=0)\n",
    "\n",
    "normalized_matrix5 = data / max_values\n",
    "\n",
    "print(\"\\nMatriks Normalisasi:\")\n",
    "print(np.round(normalized_matrix5, 3))\n",
    "\n",
    "num_parameters = 6\n",
    "eigen_values5 = np.sum(normalized_matrix5, axis=1)/num_parameters\n",
    "print(\"\\nVektor Eigen: \")\n",
    "print(np.round(eigen_values5, 3))\n"
   ]
  },
  {
   "cell_type": "markdown",
   "metadata": {},
   "source": [
    "4. Jumlah Produk Terjual"
   ]
  },
  {
   "cell_type": "code",
   "execution_count": 30,
   "metadata": {},
   "outputs": [
    {
     "name": "stdout",
     "output_type": "stream",
     "text": [
      "Matriks Data:\n",
      " [[1.  2.  1.  2.  2.  1. ]\n",
      " [0.5 1.  2.  1.  2.  1. ]\n",
      " [1.  0.5 1.  2.  1.  2. ]\n",
      " [0.5 1.  0.5 1.  1.  1. ]\n",
      " [0.5 0.5 1.  1.  1.  2. ]\n",
      " [1.  1.  0.5 1.  0.5 1. ]]\n",
      "\n",
      "Matriks Normalisasi:\n",
      "[[0.222 0.333 0.167 0.25  0.267 0.125]\n",
      " [0.111 0.167 0.333 0.125 0.267 0.125]\n",
      " [0.222 0.083 0.167 0.25  0.133 0.25 ]\n",
      " [0.111 0.167 0.083 0.125 0.133 0.125]\n",
      " [0.111 0.083 0.167 0.125 0.133 0.25 ]\n",
      " [0.222 0.167 0.083 0.125 0.067 0.125]]\n",
      "\n",
      "Vektor Eigen: \n",
      "[[0.227]\n",
      " [0.188]\n",
      " [0.184]\n",
      " [0.124]\n",
      " [0.145]\n",
      " [0.131]]\n"
     ]
    }
   ],
   "source": [
    "import numpy as np\n",
    "\n",
    "#tabel rating\n",
    "data = np.mat(\"1 2 1 2 2 1; \\\n",
    "               0.5 1 2 1 2 1; \\\n",
    "               1 0.5 1 2 1 2; \\\n",
    "               0.5 1 0.5 1 1 1; \\\n",
    "               0.5 0.5 1 1 1 2; \\\n",
    "               1 1 0.5 1 0.5 1\")\n",
    "\n",
    "print(\"Matriks Data:\\n\", data)\n",
    "\n",
    "max_values = np.sum(data, axis=0)\n",
    "\n",
    "normalized_matrix6 = data / max_values\n",
    "\n",
    "print(\"\\nMatriks Normalisasi:\")\n",
    "print(np.round(normalized_matrix6, 3))\n",
    "\n",
    "num_parameters = 6\n",
    "eigen_values6 = np.sum(normalized_matrix6, axis=1)/num_parameters\n",
    "print(\"\\nVektor Eigen: \")\n",
    "print(np.round(eigen_values6, 3))\n"
   ]
  },
  {
   "cell_type": "markdown",
   "metadata": {},
   "source": [
    "5. Keaslian Produk"
   ]
  },
  {
   "cell_type": "code",
   "execution_count": 31,
   "metadata": {},
   "outputs": [
    {
     "name": "stdout",
     "output_type": "stream",
     "text": [
      "Matriks Data:\n",
      " [[1.  2.  1.  2.  2.  1. ]\n",
      " [0.5 1.  2.  1.  1.  1. ]\n",
      " [1.  0.5 1.  2.  1.  1. ]\n",
      " [0.5 1.  0.5 1.  2.  1. ]\n",
      " [0.5 1.  1.  0.5 1.  2. ]\n",
      " [1.  1.  1.  1.  0.5 1. ]]\n",
      "\n",
      "Matriks Normalisasi:\n",
      "[[0.222 0.308 0.154 0.267 0.267 0.143]\n",
      " [0.111 0.154 0.308 0.133 0.133 0.143]\n",
      " [0.222 0.077 0.154 0.267 0.133 0.143]\n",
      " [0.111 0.154 0.077 0.133 0.267 0.143]\n",
      " [0.111 0.154 0.154 0.067 0.133 0.286]\n",
      " [0.222 0.154 0.154 0.133 0.067 0.143]]\n",
      "\n",
      "Vektor Eigen: \n",
      "[[0.227]\n",
      " [0.164]\n",
      " [0.166]\n",
      " [0.147]\n",
      " [0.151]\n",
      " [0.145]]\n"
     ]
    }
   ],
   "source": [
    "import numpy as np\n",
    "\n",
    "#tabel rating\n",
    "data = np.mat(\"1 2 1 2 2 1; \\\n",
    "               0.5 1 2 1 1 1; \\\n",
    "               1 0.5 1 2 1 1; \\\n",
    "               0.5 1 0.5 1 2 1; \\\n",
    "               0.5 1 1 0.5 1 2; \\\n",
    "               1 1 1 1 0.5 1\")\n",
    "\n",
    "print(\"Matriks Data:\\n\", data)\n",
    "\n",
    "max_values = np.sum(data, axis=0)\n",
    "\n",
    "normalized_matrix7 = data / max_values\n",
    "\n",
    "print(\"\\nMatriks Normalisasi:\")\n",
    "print(np.round(normalized_matrix7, 3))\n",
    "\n",
    "num_parameters = 6\n",
    "eigen_values7 = np.sum(normalized_matrix7, axis=1)/num_parameters\n",
    "print(\"\\nVektor Eigen: \")\n",
    "print(np.round(eigen_values7, 3))\n"
   ]
  },
  {
   "cell_type": "markdown",
   "metadata": {},
   "source": [
    "6. Skala Toko"
   ]
  },
  {
   "cell_type": "code",
   "execution_count": 32,
   "metadata": {},
   "outputs": [
    {
     "name": "stdout",
     "output_type": "stream",
     "text": [
      "Matriks Data:\n",
      " [[1.  2.  2.  2.  2.  2. ]\n",
      " [0.5 1.  2.  2.  1.  1. ]\n",
      " [0.5 0.5 1.  2.  1.  1. ]\n",
      " [0.5 0.5 0.5 1.  1.  1. ]\n",
      " [0.5 1.  1.  1.  1.  1. ]\n",
      " [0.5 1.  1.  1.  1.  1. ]]\n",
      "\n",
      "Matriks Normalisasi:\n",
      "[[0.286 0.333 0.267 0.222 0.286 0.286]\n",
      " [0.143 0.167 0.267 0.222 0.143 0.143]\n",
      " [0.143 0.083 0.133 0.222 0.143 0.143]\n",
      " [0.143 0.083 0.067 0.111 0.143 0.143]\n",
      " [0.143 0.167 0.133 0.111 0.143 0.143]\n",
      " [0.143 0.167 0.133 0.111 0.143 0.143]]\n",
      "\n",
      "Vektor Eigen: \n",
      "[[0.28 ]\n",
      " [0.181]\n",
      " [0.145]\n",
      " [0.115]\n",
      " [0.14 ]\n",
      " [0.14 ]]\n"
     ]
    }
   ],
   "source": [
    "import numpy as np\n",
    "\n",
    "#tabel rating\n",
    "data = np.mat(\"1 2 2 2 2 2; \\\n",
    "               0.5 1 2 2 1 1; \\\n",
    "               0.5 0.5 1 2 1 1; \\\n",
    "               0.5 0.5 0.5 1 1 1; \\\n",
    "               0.5 1 1 1 1 1; \\\n",
    "               0.5 1 1 1 1 1\")\n",
    "\n",
    "print(\"Matriks Data:\\n\", data)\n",
    "\n",
    "max_values = np.sum(data, axis=0)\n",
    "\n",
    "normalized_matrix8 = data / max_values\n",
    "\n",
    "print(\"\\nMatriks Normalisasi:\")\n",
    "print(np.round(normalized_matrix8, 3))\n",
    "\n",
    "num_parameters = 6\n",
    "eigen_values8 = np.sum(normalized_matrix8, axis=1)/num_parameters\n",
    "print(\"\\nVektor Eigen: \")\n",
    "print(np.round(eigen_values8, 3))\n"
   ]
  },
  {
   "cell_type": "code",
   "execution_count": 5,
   "metadata": {},
   "outputs": [
    {
     "name": "stdout",
     "output_type": "stream",
     "text": [
      "\n",
      "Nilai vektor prioritas:  [[0.4032408 ]\n",
      " [0.23731636]\n",
      " [0.22995965]\n",
      " [0.12745272]\n",
      " [0.07203043]\n",
      " [0.05355711]]\n"
     ]
    }
   ],
   "source": [
    "#mencari nilai priority vector\n",
    "\n",
    "priority_vector = (data1 * eigen_values1)/num_parameters\n",
    "print(\"\\nNilai vektor prioritas: \" ,priority_vector)"
   ]
  },
  {
   "cell_type": "code",
   "execution_count": 9,
   "metadata": {},
   "outputs": [
    {
     "name": "stdout",
     "output_type": "stream",
     "text": [
      "Matriks Data:\n",
      " [[1.   4.   2.   3.   4.   4.  ]\n",
      " [0.25 1.   2.   3.   3.   3.  ]\n",
      " [0.5  0.5  1.   4.   3.   4.  ]\n",
      " [0.33 0.33 0.25 1.   3.   4.  ]\n",
      " [0.25 0.33 0.33 0.33 1.   2.  ]\n",
      " [0.25 0.33 0.25 0.25 0.5  1.  ]]\n",
      "\n",
      "Matriks Normalisasi:\n",
      "[[0.388 0.616 0.343 0.259 0.276 0.222]\n",
      " [0.097 0.154 0.343 0.259 0.207 0.167]\n",
      " [0.194 0.077 0.172 0.345 0.207 0.222]\n",
      " [0.128 0.051 0.043 0.086 0.207 0.222]\n",
      " [0.097 0.051 0.057 0.028 0.069 0.111]\n",
      " [0.097 0.051 0.043 0.022 0.034 0.056]]\n",
      "\n",
      "Vektor Eigen: \n",
      "[[0.351]\n",
      " [0.204]\n",
      " [0.203]\n",
      " [0.123]\n",
      " [0.069]\n",
      " [0.05 ]]\n",
      "\n",
      "Nilai Lamda Max:  [[6.74134242]]\n"
     ]
    }
   ],
   "source": [
    "import numpy as np\n",
    "\n",
    "#tabel rating\n",
    "data1 = np.mat(\"1 4 2 3 4 4; \\\n",
    "               0.25 1 2 3 3 3; \\\n",
    "               0.5 0.5 1 4 3 4; \\\n",
    "               0.33 0.33 0.25 1 3 4; \\\n",
    "               0.25 0.33 0.33 0.33 1 2; \\\n",
    "               0.25 0.33 0.25 0.25 0.5 1\")\n",
    "\n",
    "print(\"Matriks Data:\\n\", data1)\n",
    "\n",
    "max_values = np.sum(data1, axis=0)\n",
    "\n",
    "normalized_matrix1 = data1 / max_values\n",
    "\n",
    "print(\"\\nMatriks Normalisasi:\")\n",
    "print(np.round(normalized_matrix1, 3))\n",
    "\n",
    "num_parameters = 6\n",
    "eigen_values1 = np.sum(normalized_matrix1, axis=1)/num_parameters\n",
    "print(\"\\nVektor Eigen: \")\n",
    "print(np.round(eigen_values1, 3))\n"
   ]
  },
  {
   "cell_type": "code",
   "execution_count": 14,
   "metadata": {},
   "outputs": [
    {
     "name": "stdout",
     "output_type": "stream",
     "text": [
      "\n",
      "Result of multiplication of matrices A and B:\n",
      " [[112.]\n",
      " [274.]\n",
      " [436.]\n",
      " [598.]\n",
      " [760.]\n",
      " [922.]]\n"
     ]
    }
   ],
   "source": [
    "# function to calculate product of 2 matrices\n",
    "def matrix_product(mat1, mat2):\n",
    "    result = np.zeros((6, 1))\n",
    "    for i in range(6):\n",
    "        for j in range(1):\n",
    "            for k in range(6):\n",
    "                result[i][j] += mat1[i][k] * mat2[k][j]\n",
    "    return result\n",
    "\n",
    "# matrix A with dimensions 6x6\n",
    "A = np.array([[1, 2, 3, 4, 5, 6],\n",
    "              [7, 8, 9, 10, 11, 12],\n",
    "              [13, 14, 15, 16, 17, 18],\n",
    "              [19, 20, 21, 22, 23, 24],\n",
    "              [25, 26, 27, 28, 29, 30],\n",
    "              [31, 32, 33, 34, 35, 36]])\n",
    "\n",
    "# matrix B with dimensions 6x1\n",
    "B = np.array([[2],\n",
    "              [3],\n",
    "              [4],\n",
    "              [5],\n",
    "              [6],\n",
    "              [7]])\n",
    "\n",
    "# calculating product of matrix A and matrix B\n",
    "result = matrix_product(A, B)\n",
    "\n",
    "print(\"\\nResult of multiplication of matrices A and B:\\n\", result)"
   ]
  },
  {
   "cell_type": "code",
   "execution_count": 45,
   "metadata": {},
   "outputs": [
    {
     "name": "stdout",
     "output_type": "stream",
     "text": [
      "\n",
      " [[0.351   0.816   0.406   0.369   0.276   0.2    ]\n",
      " [0.08775 0.204   0.406   0.369   0.207   0.15   ]\n",
      " [0.1755  0.102   0.203   0.492   0.207   0.2    ]\n",
      " [0.11583 0.06732 0.05075 0.123   0.207   0.2    ]\n",
      " [0.08775 0.06732 0.06699 0.04059 0.069   0.1    ]\n",
      " [0.08775 0.06732 0.05075 0.03075 0.0345  0.05   ]]\n",
      "\n",
      " [2.418   1.42375 1.3795  0.7639  0.43165 0.32107]\n",
      "\n",
      " 39.55138826515894\n",
      "\n",
      "The lambda maximum is:  6.591898044193157\n",
      "\n",
      "CI:  0.11837960883863144\n",
      "\n",
      "CR:  0.09546742648276729\n",
      "\n",
      "Karena CR < 0.1 berarti referensi data dummy adalah konsisten\n"
     ]
    }
   ],
   "source": [
    "#data diambil dari tabel parameter (data 1)\n",
    "data = np.array([[1. , 4. , 2. , 3. , 4. , 4. ],\n",
    "                 [0.25, 1. , 2. , 3. , 3. , 3. ],\n",
    "                 [0.5 , 0.5, 1. , 4. , 3. , 4. ],\n",
    "                 [0.33, 0.33, 0.25, 1. , 3. , 4. ],\n",
    "                 [0.25, 0.33, 0.33, 0.33, 1. , 2. ],\n",
    "                 [0.25, 0.33, 0.25, 0.25, 0.5, 1. ]])\n",
    "\n",
    "#priority vector merupakan vektor eigen yang didapat dari tabel parameter\n",
    "priority_vector = np.array([[0.351,0.204, 0.203, 0.123, 0.069, 0.05 ]])\n",
    "\n",
    "hasil_matriks = np.multiply(data, priority_vector)\n",
    "\n",
    "sum_horizontal = np.sum(hasil_matriks, axis=1)\n",
    "\n",
    "total_sum = np.sum(sum_horizontal/priority_vector) \n",
    "\n",
    "lambda_maks = total_sum / num_parameters\n",
    "\n",
    "CI = (lambda_maks - num_parameters)/(num_parameters - 1)\n",
    "\n",
    "RI = 1.24\n",
    "CR = CI / RI\n",
    "\n",
    "print(\"\\n\",hasil_matriks)\n",
    "print(\"\\n\",sum_horizontal)\n",
    "print(\"\\n\",total_sum)\n",
    "print(\"\\nThe lambda maximum is: \", lambda_maks)\n",
    "print(\"\\nCI: \", CI)\n",
    "print(\"\\nCR: \", CR)\n",
    "print(\"\\nKarena CR < 0.1 berarti referensi data dummy adalah konsisten\")"
   ]
  }
 ],
 "metadata": {
  "kernelspec": {
   "display_name": "Python 3",
   "language": "python",
   "name": "python3"
  },
  "language_info": {
   "codemirror_mode": {
    "name": "ipython",
    "version": 3
   },
   "file_extension": ".py",
   "mimetype": "text/x-python",
   "name": "python",
   "nbconvert_exporter": "python",
   "pygments_lexer": "ipython3",
   "version": "3.11.6"
  }
 },
 "nbformat": 4,
 "nbformat_minor": 2
}
